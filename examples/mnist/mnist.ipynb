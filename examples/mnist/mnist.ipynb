{
 "cells": [
  {
   "cell_type": "markdown",
   "metadata": {},
   "source": [
    "# MNIST\n",
    "\n",
    "In this example, we'll demonstrate how to use [dataduit](https://github.com/JackBurdick/dataduit) to create tensorflow datasets from the readily available tfdataset by specifying a config file.\n",
    "\n",
    "We'll then demonstrate how to use yeahml to create/build/evaluate a model on the created data.\n",
    "\n",
    "#### Note:\n",
    "> The model for this project likely doesn't make sense. I am not personally familiar with the dataset/problem, I was interested showing an example"
   ]
  },
  {
   "cell_type": "code",
   "execution_count": 1,
   "metadata": {},
   "outputs": [
    {
     "data": {
      "application/javascript": [
       "\n",
       "            setTimeout(function() {\n",
       "                var nbb_cell_id = 1;\n",
       "                var nbb_unformatted_code = \"%load_ext autoreload\\n%autoreload 2\\n%load_ext nb_black\";\n",
       "                var nbb_formatted_code = \"%load_ext autoreload\\n%autoreload 2\\n%load_ext nb_black\";\n",
       "                var nbb_cells = Jupyter.notebook.get_cells();\n",
       "                for (var i = 0; i < nbb_cells.length; ++i) {\n",
       "                    if (nbb_cells[i].input_prompt_number == nbb_cell_id) {\n",
       "                        if (nbb_cells[i].get_text() == nbb_unformatted_code) {\n",
       "                             nbb_cells[i].set_text(nbb_formatted_code);\n",
       "                        }\n",
       "                        break;\n",
       "                    }\n",
       "                }\n",
       "            }, 500);\n",
       "            "
      ],
      "text/plain": [
       "<IPython.core.display.Javascript object>"
      ]
     },
     "metadata": {},
     "output_type": "display_data"
    }
   ],
   "source": [
    "%load_ext autoreload\n",
    "%autoreload 2\n",
    "%load_ext nb_black"
   ]
  },
  {
   "cell_type": "code",
   "execution_count": 2,
   "metadata": {
    "scrolled": false
   },
   "outputs": [
    {
     "data": {
      "application/javascript": [
       "\n",
       "            setTimeout(function() {\n",
       "                var nbb_cell_id = 2;\n",
       "                var nbb_unformatted_code = \"# import pandas as pd\\nimport tensorflow as tf\\nimport dataduit as dd\\nimport yeahml as yml\";\n",
       "                var nbb_formatted_code = \"# import pandas as pd\\nimport tensorflow as tf\\nimport dataduit as dd\\nimport yeahml as yml\";\n",
       "                var nbb_cells = Jupyter.notebook.get_cells();\n",
       "                for (var i = 0; i < nbb_cells.length; ++i) {\n",
       "                    if (nbb_cells[i].input_prompt_number == nbb_cell_id) {\n",
       "                        if (nbb_cells[i].get_text() == nbb_unformatted_code) {\n",
       "                             nbb_cells[i].set_text(nbb_formatted_code);\n",
       "                        }\n",
       "                        break;\n",
       "                    }\n",
       "                }\n",
       "            }, 500);\n",
       "            "
      ],
      "text/plain": [
       "<IPython.core.display.Javascript object>"
      ]
     },
     "metadata": {},
     "output_type": "display_data"
    }
   ],
   "source": [
    "# import pandas as pd\n",
    "import tensorflow as tf\n",
    "import dataduit as dd\n",
    "import yeahml as yml"
   ]
  },
  {
   "cell_type": "markdown",
   "metadata": {},
   "source": [
    "## Create Datasets"
   ]
  },
  {
   "cell_type": "code",
   "execution_count": 3,
   "metadata": {},
   "outputs": [
    {
     "data": {
      "application/javascript": [
       "\n",
       "            setTimeout(function() {\n",
       "                var nbb_cell_id = 3;\n",
       "                var nbb_unformatted_code = \"# only use 2 of the features\\ndd_dict = {\\n    \\\"meta\\\": {\\n        \\\"name\\\": \\\"mnist\\\",\\n        \\\"logging\\\": {\\\"log_stream_level\\\": \\\"INFO\\\"},\\n        \\\"in\\\": {\\\"from\\\": \\\"online\\\", \\\"type\\\": \\\"tfd\\\"},\\n    },\\n    \\\"read\\\": {\\n        \\\"split_percents\\\": [75, 15, 10],\\n        \\\"split_names\\\": [\\\"train\\\", \\\"val\\\", \\\"test\\\"],\\n        \\\"from_stage\\\": \\\"preprocessed\\\",\\n    },\\n}\";\n",
       "                var nbb_formatted_code = \"# only use 2 of the features\\ndd_dict = {\\n    \\\"meta\\\": {\\n        \\\"name\\\": \\\"mnist\\\",\\n        \\\"logging\\\": {\\\"log_stream_level\\\": \\\"INFO\\\"},\\n        \\\"in\\\": {\\\"from\\\": \\\"online\\\", \\\"type\\\": \\\"tfd\\\"},\\n    },\\n    \\\"read\\\": {\\n        \\\"split_percents\\\": [75, 15, 10],\\n        \\\"split_names\\\": [\\\"train\\\", \\\"val\\\", \\\"test\\\"],\\n        \\\"from_stage\\\": \\\"preprocessed\\\",\\n    },\\n}\";\n",
       "                var nbb_cells = Jupyter.notebook.get_cells();\n",
       "                for (var i = 0; i < nbb_cells.length; ++i) {\n",
       "                    if (nbb_cells[i].input_prompt_number == nbb_cell_id) {\n",
       "                        if (nbb_cells[i].get_text() == nbb_unformatted_code) {\n",
       "                             nbb_cells[i].set_text(nbb_formatted_code);\n",
       "                        }\n",
       "                        break;\n",
       "                    }\n",
       "                }\n",
       "            }, 500);\n",
       "            "
      ],
      "text/plain": [
       "<IPython.core.display.Javascript object>"
      ]
     },
     "metadata": {},
     "output_type": "display_data"
    }
   ],
   "source": [
    "# only use 2 of the features\n",
    "dd_dict = {\n",
    "    \"meta\": {\n",
    "        \"name\": \"mnist\",\n",
    "        \"logging\": {\"log_stream_level\": \"INFO\"},\n",
    "        \"in\": {\"from\": \"online\", \"type\": \"tfd\"},\n",
    "    },\n",
    "    \"read\": {\n",
    "        \"split_percents\": [75, 15, 10],\n",
    "        \"split_names\": [\"train\", \"val\", \"test\"],\n",
    "        \"from_stage\": \"preprocessed\",\n",
    "    },\n",
    "}"
   ]
  },
  {
   "cell_type": "code",
   "execution_count": 4,
   "metadata": {},
   "outputs": [
    {
     "name": "stderr",
     "output_type": "stream",
     "text": [
      "root dir set to None\n",
      "as_supervised set to False\n",
      "with_info set to False\n"
     ]
    },
    {
     "data": {
      "application/javascript": [
       "\n",
       "            setTimeout(function() {\n",
       "                var nbb_cell_id = 4;\n",
       "                var nbb_unformatted_code = \"# create the datasets based on the above defined names/splits/specifed data\\nds_dict_raw = dd.read(dd_dict)[0]\";\n",
       "                var nbb_formatted_code = \"# create the datasets based on the above defined names/splits/specifed data\\nds_dict_raw = dd.read(dd_dict)[0]\";\n",
       "                var nbb_cells = Jupyter.notebook.get_cells();\n",
       "                for (var i = 0; i < nbb_cells.length; ++i) {\n",
       "                    if (nbb_cells[i].input_prompt_number == nbb_cell_id) {\n",
       "                        if (nbb_cells[i].get_text() == nbb_unformatted_code) {\n",
       "                             nbb_cells[i].set_text(nbb_formatted_code);\n",
       "                        }\n",
       "                        break;\n",
       "                    }\n",
       "                }\n",
       "            }, 500);\n",
       "            "
      ],
      "text/plain": [
       "<IPython.core.display.Javascript object>"
      ]
     },
     "metadata": {},
     "output_type": "display_data"
    }
   ],
   "source": [
    "# create the datasets based on the above defined names/splits/specifed data\n",
    "ds_dict_raw = dd.read(dd_dict)[0]"
   ]
  },
  {
   "cell_type": "markdown",
   "metadata": {},
   "source": [
    "## alter dataset"
   ]
  },
  {
   "cell_type": "code",
   "execution_count": 5,
   "metadata": {},
   "outputs": [
    {
     "data": {
      "application/javascript": [
       "\n",
       "            setTimeout(function() {\n",
       "                var nbb_cell_id = 5;\n",
       "                var nbb_unformatted_code = \"def normalize_img(image, label):\\n    \\\"\\\"\\\"Normalizes images: `uint8` -> `float32`.\\\"\\\"\\\"\\n    return tf.cast(image, tf.float32) / 255.0, label\";\n",
       "                var nbb_formatted_code = \"def normalize_img(image, label):\\n    \\\"\\\"\\\"Normalizes images: `uint8` -> `float32`.\\\"\\\"\\\"\\n    return tf.cast(image, tf.float32) / 255.0, label\";\n",
       "                var nbb_cells = Jupyter.notebook.get_cells();\n",
       "                for (var i = 0; i < nbb_cells.length; ++i) {\n",
       "                    if (nbb_cells[i].input_prompt_number == nbb_cell_id) {\n",
       "                        if (nbb_cells[i].get_text() == nbb_unformatted_code) {\n",
       "                             nbb_cells[i].set_text(nbb_formatted_code);\n",
       "                        }\n",
       "                        break;\n",
       "                    }\n",
       "                }\n",
       "            }, 500);\n",
       "            "
      ],
      "text/plain": [
       "<IPython.core.display.Javascript object>"
      ]
     },
     "metadata": {},
     "output_type": "display_data"
    }
   ],
   "source": [
    "def normalize_img(image, label):\n",
    "    \"\"\"Normalizes images: `uint8` -> `float32`.\"\"\"\n",
    "    return tf.cast(image, tf.float32) / 255.0, label"
   ]
  },
  {
   "cell_type": "code",
   "execution_count": 6,
   "metadata": {},
   "outputs": [
    {
     "data": {
      "application/javascript": [
       "\n",
       "            setTimeout(function() {\n",
       "                var nbb_cell_id = 6;\n",
       "                var nbb_unformatted_code = \"def load_image(datapoint):\\n\\n    input_image, input_mask = normalize_img(datapoint[\\\"image\\\"], datapoint[\\\"label\\\"])\\n\\n    return input_image, input_mask\";\n",
       "                var nbb_formatted_code = \"def load_image(datapoint):\\n\\n    input_image, input_mask = normalize_img(datapoint[\\\"image\\\"], datapoint[\\\"label\\\"])\\n\\n    return input_image, input_mask\";\n",
       "                var nbb_cells = Jupyter.notebook.get_cells();\n",
       "                for (var i = 0; i < nbb_cells.length; ++i) {\n",
       "                    if (nbb_cells[i].input_prompt_number == nbb_cell_id) {\n",
       "                        if (nbb_cells[i].get_text() == nbb_unformatted_code) {\n",
       "                             nbb_cells[i].set_text(nbb_formatted_code);\n",
       "                        }\n",
       "                        break;\n",
       "                    }\n",
       "                }\n",
       "            }, 500);\n",
       "            "
      ],
      "text/plain": [
       "<IPython.core.display.Javascript object>"
      ]
     },
     "metadata": {},
     "output_type": "display_data"
    }
   ],
   "source": [
    "def load_image(datapoint):\n",
    "\n",
    "    input_image, input_mask = normalize_img(datapoint[\"image\"], datapoint[\"label\"])\n",
    "\n",
    "    return input_image, input_mask"
   ]
  },
  {
   "cell_type": "code",
   "execution_count": 7,
   "metadata": {},
   "outputs": [
    {
     "data": {
      "application/javascript": [
       "\n",
       "            setTimeout(function() {\n",
       "                var nbb_cell_id = 7;\n",
       "                var nbb_unformatted_code = \"for k, cur_ds in ds_dict_raw.items():\\n\\n    cur_ds = cur_ds.map(load_image, num_parallel_calls=tf.data.experimental.AUTOTUNE)\\n\\n    ds_dict_raw[k] = cur_ds\";\n",
       "                var nbb_formatted_code = \"for k, cur_ds in ds_dict_raw.items():\\n\\n    cur_ds = cur_ds.map(load_image, num_parallel_calls=tf.data.experimental.AUTOTUNE)\\n\\n    ds_dict_raw[k] = cur_ds\";\n",
       "                var nbb_cells = Jupyter.notebook.get_cells();\n",
       "                for (var i = 0; i < nbb_cells.length; ++i) {\n",
       "                    if (nbb_cells[i].input_prompt_number == nbb_cell_id) {\n",
       "                        if (nbb_cells[i].get_text() == nbb_unformatted_code) {\n",
       "                             nbb_cells[i].set_text(nbb_formatted_code);\n",
       "                        }\n",
       "                        break;\n",
       "                    }\n",
       "                }\n",
       "            }, 500);\n",
       "            "
      ],
      "text/plain": [
       "<IPython.core.display.Javascript object>"
      ]
     },
     "metadata": {},
     "output_type": "display_data"
    }
   ],
   "source": [
    "for k, cur_ds in ds_dict_raw.items():\n",
    "\n",
    "    cur_ds = cur_ds.map(load_image, num_parallel_calls=tf.data.experimental.AUTOTUNE)\n",
    "\n",
    "    ds_dict_raw[k] = cur_ds"
   ]
  },
  {
   "cell_type": "code",
   "execution_count": 8,
   "metadata": {},
   "outputs": [
    {
     "data": {
      "application/javascript": [
       "\n",
       "            setTimeout(function() {\n",
       "                var nbb_cell_id = 8;\n",
       "                var nbb_unformatted_code = \"ds_dict = {\\\"mnist\\\": ds_dict_raw}\";\n",
       "                var nbb_formatted_code = \"ds_dict = {\\\"mnist\\\": ds_dict_raw}\";\n",
       "                var nbb_cells = Jupyter.notebook.get_cells();\n",
       "                for (var i = 0; i < nbb_cells.length; ++i) {\n",
       "                    if (nbb_cells[i].input_prompt_number == nbb_cell_id) {\n",
       "                        if (nbb_cells[i].get_text() == nbb_unformatted_code) {\n",
       "                             nbb_cells[i].set_text(nbb_formatted_code);\n",
       "                        }\n",
       "                        break;\n",
       "                    }\n",
       "                }\n",
       "            }, 500);\n",
       "            "
      ],
      "text/plain": [
       "<IPython.core.display.Javascript object>"
      ]
     },
     "metadata": {},
     "output_type": "display_data"
    }
   ],
   "source": [
    "ds_dict = {\"mnist\": ds_dict_raw}"
   ]
  },
  {
   "cell_type": "markdown",
   "metadata": {},
   "source": [
    "`ds_dict` is a dictionary containing the tensorflow datasets (as specified above). which can be accessed like this:\n",
    "\n",
    "```python\n",
    "ds_val = ds_dict[\"val\"]\n",
    "```"
   ]
  },
  {
   "cell_type": "markdown",
   "metadata": {},
   "source": [
    "## subset"
   ]
  },
  {
   "cell_type": "code",
   "execution_count": 9,
   "metadata": {},
   "outputs": [
    {
     "data": {
      "application/javascript": [
       "\n",
       "            setTimeout(function() {\n",
       "                var nbb_cell_id = 9;\n",
       "                var nbb_unformatted_code = \"sample_size = 1000\\nfor ds_name, cur_dict in ds_dict.items():\\n    for split_name, split_ds in cur_dict.items():\\n        ds_dict[ds_name][split_name] = split_ds.take(sample_size)\";\n",
       "                var nbb_formatted_code = \"sample_size = 1000\\nfor ds_name, cur_dict in ds_dict.items():\\n    for split_name, split_ds in cur_dict.items():\\n        ds_dict[ds_name][split_name] = split_ds.take(sample_size)\";\n",
       "                var nbb_cells = Jupyter.notebook.get_cells();\n",
       "                for (var i = 0; i < nbb_cells.length; ++i) {\n",
       "                    if (nbb_cells[i].input_prompt_number == nbb_cell_id) {\n",
       "                        if (nbb_cells[i].get_text() == nbb_unformatted_code) {\n",
       "                             nbb_cells[i].set_text(nbb_formatted_code);\n",
       "                        }\n",
       "                        break;\n",
       "                    }\n",
       "                }\n",
       "            }, 500);\n",
       "            "
      ],
      "text/plain": [
       "<IPython.core.display.Javascript object>"
      ]
     },
     "metadata": {},
     "output_type": "display_data"
    }
   ],
   "source": [
    "sample_size = 1000\n",
    "for ds_name, cur_dict in ds_dict.items():\n",
    "    for split_name, split_ds in cur_dict.items():\n",
    "        ds_dict[ds_name][split_name] = split_ds.take(sample_size)"
   ]
  },
  {
   "cell_type": "markdown",
   "metadata": {},
   "source": [
    "## Specify the Model"
   ]
  },
  {
   "cell_type": "code",
   "execution_count": 10,
   "metadata": {
    "scrolled": true
   },
   "outputs": [
    {
     "name": "stderr",
     "output_type": "stream",
     "text": [
      "config_logger: INFO     directory yeahml/mnist/trial_00/model_a removed\n",
      "config_logger: INFO     directory yeahml/mnist/trial_00/model_a created\n"
     ]
    },
    {
     "data": {
      "application/javascript": [
       "\n",
       "            setTimeout(function() {\n",
       "                var nbb_cell_id = 10;\n",
       "                var nbb_unformatted_code = \"example = \\\"./main_config.yml\\\"\\nyml_dict = yml.create_configs(example)\";\n",
       "                var nbb_formatted_code = \"example = \\\"./main_config.yml\\\"\\nyml_dict = yml.create_configs(example)\";\n",
       "                var nbb_cells = Jupyter.notebook.get_cells();\n",
       "                for (var i = 0; i < nbb_cells.length; ++i) {\n",
       "                    if (nbb_cells[i].input_prompt_number == nbb_cell_id) {\n",
       "                        if (nbb_cells[i].get_text() == nbb_unformatted_code) {\n",
       "                             nbb_cells[i].set_text(nbb_formatted_code);\n",
       "                        }\n",
       "                        break;\n",
       "                    }\n",
       "                }\n",
       "            }, 500);\n",
       "            "
      ],
      "text/plain": [
       "<IPython.core.display.Javascript object>"
      ]
     },
     "metadata": {},
     "output_type": "display_data"
    }
   ],
   "source": [
    "example = \"./main_config.yml\"\n",
    "yml_dict = yml.create_configs(example)"
   ]
  },
  {
   "cell_type": "markdown",
   "metadata": {},
   "source": [
    "## Build the model"
   ]
  },
  {
   "cell_type": "code",
   "execution_count": 11,
   "metadata": {
    "scrolled": false
   },
   "outputs": [
    {
     "name": "stderr",
     "output_type": "stream",
     "text": [
      "build_logger: INFO     -> START building graph\n",
      "build_logger: INFO     information json file created\n"
     ]
    },
    {
     "data": {
      "application/javascript": [
       "\n",
       "            setTimeout(function() {\n",
       "                var nbb_cell_id = 11;\n",
       "                var nbb_unformatted_code = \"# If you receive an error:\\n# AttributeError: 'google.protobuf.pyext._message.RepeatedCompositeCo' object has no attribute 'append'\\n# I personally used `pip install -U protobuf=3.8.0` to resolve\\n# per https://github.com/tensorflow/tensorflow/issues/33348\\nmodel = yml.build_model(yml_dict)\";\n",
       "                var nbb_formatted_code = \"# If you receive an error:\\n# AttributeError: 'google.protobuf.pyext._message.RepeatedCompositeCo' object has no attribute 'append'\\n# I personally used `pip install -U protobuf=3.8.0` to resolve\\n# per https://github.com/tensorflow/tensorflow/issues/33348\\nmodel = yml.build_model(yml_dict)\";\n",
       "                var nbb_cells = Jupyter.notebook.get_cells();\n",
       "                for (var i = 0; i < nbb_cells.length; ++i) {\n",
       "                    if (nbb_cells[i].input_prompt_number == nbb_cell_id) {\n",
       "                        if (nbb_cells[i].get_text() == nbb_unformatted_code) {\n",
       "                             nbb_cells[i].set_text(nbb_formatted_code);\n",
       "                        }\n",
       "                        break;\n",
       "                    }\n",
       "                }\n",
       "            }, 500);\n",
       "            "
      ],
      "text/plain": [
       "<IPython.core.display.Javascript object>"
      ]
     },
     "metadata": {},
     "output_type": "display_data"
    }
   ],
   "source": [
    "# If you receive an error:\n",
    "# AttributeError: 'google.protobuf.pyext._message.RepeatedCompositeCo' object has no attribute 'append'\n",
    "# I personally used `pip install -U protobuf=3.8.0` to resolve\n",
    "# per https://github.com/tensorflow/tensorflow/issues/33348\n",
    "model = yml.build_model(yml_dict)"
   ]
  },
  {
   "cell_type": "code",
   "execution_count": 12,
   "metadata": {},
   "outputs": [
    {
     "name": "stdout",
     "output_type": "stream",
     "text": [
      "Model: \"model_a\"\n",
      "_________________________________________________________________\n",
      "Layer (type)                 Output Shape              Param #   \n",
      "=================================================================\n",
      "x_image (InputLayer)         [(None, 28, 28, 1)]       0         \n",
      "_________________________________________________________________\n",
      "conv_1 (Conv2D)              (None, 28, 28, 8)         80        \n",
      "_________________________________________________________________\n",
      "conv_2_downsample (Conv2D)   (None, 14, 14, 8)         584       \n",
      "_________________________________________________________________\n",
      "conv_3 (Conv2D)              (None, 14, 14, 8)         584       \n",
      "_________________________________________________________________\n",
      "conv_4_downsample (Conv2D)   (None, 7, 7, 8)           584       \n",
      "_________________________________________________________________\n",
      "flatten_1 (Flatten)          (None, 392)               0         \n",
      "_________________________________________________________________\n",
      "dense_1 (Dense)              (None, 128)               50304     \n",
      "_________________________________________________________________\n",
      "dense_2 (Dense)              (None, 32)                4128      \n",
      "_________________________________________________________________\n",
      "y_pred (Dense)               (None, 10)                330       \n",
      "=================================================================\n",
      "Total params: 56,594\n",
      "Trainable params: 56,594\n",
      "Non-trainable params: 0\n",
      "_________________________________________________________________\n"
     ]
    },
    {
     "data": {
      "application/javascript": [
       "\n",
       "            setTimeout(function() {\n",
       "                var nbb_cell_id = 12;\n",
       "                var nbb_unformatted_code = \"model.summary()\";\n",
       "                var nbb_formatted_code = \"model.summary()\";\n",
       "                var nbb_cells = Jupyter.notebook.get_cells();\n",
       "                for (var i = 0; i < nbb_cells.length; ++i) {\n",
       "                    if (nbb_cells[i].input_prompt_number == nbb_cell_id) {\n",
       "                        if (nbb_cells[i].get_text() == nbb_unformatted_code) {\n",
       "                             nbb_cells[i].set_text(nbb_formatted_code);\n",
       "                        }\n",
       "                        break;\n",
       "                    }\n",
       "                }\n",
       "            }, 500);\n",
       "            "
      ],
      "text/plain": [
       "<IPython.core.display.Javascript object>"
      ]
     },
     "metadata": {},
     "output_type": "display_data"
    }
   ],
   "source": [
    "model.summary()"
   ]
  },
  {
   "cell_type": "markdown",
   "metadata": {},
   "source": [
    "## Train the Model\n",
    "\n",
    "Notice here that we're using the created training and validation sets from `ds_dict`"
   ]
  },
  {
   "cell_type": "code",
   "execution_count": 13,
   "metadata": {},
   "outputs": [
    {
     "data": {
      "text/plain": [
       "{'mnist': {'train': <TakeDataset shapes: ((28, 28, 1), ()), types: (tf.float32, tf.int64)>,\n",
       "  'val': <TakeDataset shapes: ((28, 28, 1), ()), types: (tf.float32, tf.int64)>,\n",
       "  'test': <TakeDataset shapes: ((28, 28, 1), ()), types: (tf.float32, tf.int64)>}}"
      ]
     },
     "execution_count": 13,
     "metadata": {},
     "output_type": "execute_result"
    },
    {
     "data": {
      "application/javascript": [
       "\n",
       "            setTimeout(function() {\n",
       "                var nbb_cell_id = 13;\n",
       "                var nbb_unformatted_code = \"ds_dict\";\n",
       "                var nbb_formatted_code = \"ds_dict\";\n",
       "                var nbb_cells = Jupyter.notebook.get_cells();\n",
       "                for (var i = 0; i < nbb_cells.length; ++i) {\n",
       "                    if (nbb_cells[i].input_prompt_number == nbb_cell_id) {\n",
       "                        if (nbb_cells[i].get_text() == nbb_unformatted_code) {\n",
       "                             nbb_cells[i].set_text(nbb_formatted_code);\n",
       "                        }\n",
       "                        break;\n",
       "                    }\n",
       "                }\n",
       "            }, 500);\n",
       "            "
      ],
      "text/plain": [
       "<IPython.core.display.Javascript object>"
      ]
     },
     "metadata": {},
     "output_type": "display_data"
    }
   ],
   "source": [
    "ds_dict"
   ]
  },
  {
   "cell_type": "code",
   "execution_count": 14,
   "metadata": {},
   "outputs": [
    {
     "data": {
      "text/plain": [
       "{'main_obj': {'loss': {'type': 'sparse_categorical_crossentropy',\n",
       "   'options': [None],\n",
       "   'track': ['mean']},\n",
       "  'metric': {'type': ['sparsecategoricalaccuracy'], 'options': [None]},\n",
       "  'in_config': {'type': 'supervised',\n",
       "   'options': {'prediction': 'y_pred', 'target': 'y_target'},\n",
       "   'dataset': 'mnist'}}}"
      ]
     },
     "execution_count": 14,
     "metadata": {},
     "output_type": "execute_result"
    },
    {
     "data": {
      "application/javascript": [
       "\n",
       "            setTimeout(function() {\n",
       "                var nbb_cell_id = 14;\n",
       "                var nbb_unformatted_code = \"yml_dict[\\\"performance\\\"][\\\"objectives\\\"]\";\n",
       "                var nbb_formatted_code = \"yml_dict[\\\"performance\\\"][\\\"objectives\\\"]\";\n",
       "                var nbb_cells = Jupyter.notebook.get_cells();\n",
       "                for (var i = 0; i < nbb_cells.length; ++i) {\n",
       "                    if (nbb_cells[i].input_prompt_number == nbb_cell_id) {\n",
       "                        if (nbb_cells[i].get_text() == nbb_unformatted_code) {\n",
       "                             nbb_cells[i].set_text(nbb_formatted_code);\n",
       "                        }\n",
       "                        break;\n",
       "                    }\n",
       "                }\n",
       "            }, 500);\n",
       "            "
      ],
      "text/plain": [
       "<IPython.core.display.Javascript object>"
      ]
     },
     "metadata": {},
     "output_type": "display_data"
    }
   ],
   "source": [
    "yml_dict[\"performance\"][\"objectives\"]"
   ]
  },
  {
   "cell_type": "code",
   "execution_count": 15,
   "metadata": {
    "scrolled": true
   },
   "outputs": [
    {
     "name": "stderr",
     "output_type": "stream",
     "text": [
      "train_logger: INFO     START - training\n",
      "train_logger: INFO     optimizer: main_opt\n",
      "train_logger: INFO     objective: main_obj\n",
      "train_logger: INFO     epoch main_obj - mnist train: 1\n",
      "train_logger: INFO     done inference on val - 992\n",
      "train_logger: INFO     optimizer: main_opt\n",
      "train_logger: INFO     objective: main_obj\n",
      "train_logger: INFO     epoch main_obj - mnist train: 2\n",
      "train_logger: INFO     done inference on val - 1984\n",
      "train_logger: INFO     optimizer: main_opt\n",
      "train_logger: INFO     objective: main_obj\n",
      "train_logger: INFO     epoch main_obj - mnist train: 3\n",
      "train_logger: INFO     done inference on val - 2976\n",
      "train_logger: INFO     optimizer: main_opt\n",
      "train_logger: INFO     objective: main_obj\n",
      "train_logger: INFO     epoch main_obj - mnist train: 4\n",
      "train_logger: INFO     done inference on val - 3968\n",
      "train_logger: INFO     optimizer: main_opt\n",
      "train_logger: INFO     objective: main_obj\n",
      "train_logger: INFO     epoch main_obj - mnist train: 5\n",
      "train_logger: INFO     done inference on val - 4960\n",
      "train_logger: INFO     optimizer: main_opt\n",
      "train_logger: INFO     objective: main_obj\n",
      "train_logger: INFO     epoch main_obj - mnist train: 6\n",
      "train_logger: INFO     done inference on val - 5952\n",
      "train_logger: INFO     optimizer: main_opt\n",
      "train_logger: INFO     objective: main_obj\n",
      "train_logger: INFO     epoch main_obj - mnist train: 7\n",
      "train_logger: INFO     done inference on val - 6944\n",
      "train_logger: INFO     optimizer: main_opt\n",
      "train_logger: INFO     objective: main_obj\n",
      "train_logger: INFO     epoch main_obj - mnist train: 8\n",
      "train_logger: INFO     done inference on val - 7936\n",
      "train_logger: INFO     optimizer: main_opt\n",
      "train_logger: INFO     objective: main_obj\n",
      "train_logger: INFO     epoch main_obj - mnist train: 9\n",
      "train_logger: INFO     done inference on val - 8928\n",
      "train_logger: INFO     optimizer: main_opt\n",
      "train_logger: INFO     objective: main_obj\n",
      "train_logger: INFO     main_opt removed from list of opt. remaining: []\n",
      "train_logger: INFO     is_training: False\n",
      "train_logger: INFO     epoch main_obj - mnist train: 10\n",
      "train_logger: INFO     done inference on val - 9920\n"
     ]
    },
    {
     "name": "stdout",
     "output_type": "stream",
     "text": [
      "CPU times: user 11.3 s, sys: 1.77 s, total: 13.1 s\n",
      "Wall time: 10.2 s\n"
     ]
    },
    {
     "data": {
      "application/javascript": [
       "\n",
       "            setTimeout(function() {\n",
       "                var nbb_cell_id = 15;\n",
       "                var nbb_unformatted_code = \"%%time\\n# roughly 69 seconds vs 116 seconds 5 epoch mnist -- not a real benchmark (23April19)\\n# roughly 69 seconds vs 101 seconds 5 epoch mnist -- not a real benchmark (24April19)\\ntrain_dict = yml.train_model(model, yml_dict, ds_dict)\";\n",
       "                var nbb_formatted_code = \"%%time\\n# roughly 69 seconds vs 116 seconds 5 epoch mnist -- not a real benchmark (23April19)\\n# roughly 69 seconds vs 101 seconds 5 epoch mnist -- not a real benchmark (24April19)\\ntrain_dict = yml.train_model(model, yml_dict, ds_dict)\";\n",
       "                var nbb_cells = Jupyter.notebook.get_cells();\n",
       "                for (var i = 0; i < nbb_cells.length; ++i) {\n",
       "                    if (nbb_cells[i].input_prompt_number == nbb_cell_id) {\n",
       "                        if (nbb_cells[i].get_text() == nbb_unformatted_code) {\n",
       "                             nbb_cells[i].set_text(nbb_formatted_code);\n",
       "                        }\n",
       "                        break;\n",
       "                    }\n",
       "                }\n",
       "            }, 500);\n",
       "            "
      ],
      "text/plain": [
       "<IPython.core.display.Javascript object>"
      ]
     },
     "metadata": {},
     "output_type": "display_data"
    }
   ],
   "source": [
    "%%time\n",
    "# roughly 69 seconds vs 116 seconds 5 epoch mnist -- not a real benchmark (23April19)\n",
    "# roughly 69 seconds vs 101 seconds 5 epoch mnist -- not a real benchmark (24April19)\n",
    "train_dict = yml.train_model(model, yml_dict, ds_dict)"
   ]
  },
  {
   "cell_type": "code",
   "execution_count": 16,
   "metadata": {
    "scrolled": true
   },
   "outputs": [
    {
     "data": {
      "image/png": "[encoded data removed]",
      "text/plain": [
       "<Figure size 1152x576 with 1 Axes>"
      ]
     },
     "metadata": {
      "needs_background": "light"
     },
     "output_type": "display_data"
    },
    {
     "data": {
      "image/png": "[encoded data removed]",
      "text/plain": [
       "<Figure size 1152x576 with 1 Axes>"
      ]
     },
     "metadata": {
      "needs_background": "light"
     },
     "output_type": "display_data"
    },
    {
     "data": {
      "application/javascript": [
       "\n",
       "            setTimeout(function() {\n",
       "                var nbb_cell_id = 16;\n",
       "                var nbb_unformatted_code = \"yml.basic_plot_tracker(\\n    train_dict[\\\"tracker\\\"],\\n    metrics=True,\\n    local=False,\\n    training=True,\\n    validation=False,\\n    loss=True,\\n    size=(16, 8),\\n)\";\n",
       "                var nbb_formatted_code = \"yml.basic_plot_tracker(\\n    train_dict[\\\"tracker\\\"],\\n    metrics=True,\\n    local=False,\\n    training=True,\\n    validation=False,\\n    loss=True,\\n    size=(16, 8),\\n)\";\n",
       "                var nbb_cells = Jupyter.notebook.get_cells();\n",
       "                for (var i = 0; i < nbb_cells.length; ++i) {\n",
       "                    if (nbb_cells[i].input_prompt_number == nbb_cell_id) {\n",
       "                        if (nbb_cells[i].get_text() == nbb_unformatted_code) {\n",
       "                             nbb_cells[i].set_text(nbb_formatted_code);\n",
       "                        }\n",
       "                        break;\n",
       "                    }\n",
       "                }\n",
       "            }, 500);\n",
       "            "
      ],
      "text/plain": [
       "<IPython.core.display.Javascript object>"
      ]
     },
     "metadata": {},
     "output_type": "display_data"
    }
   ],
   "source": [
    "yml.basic_plot_tracker(\n",
    "    train_dict[\"tracker\"],\n",
    "    metrics=True,\n",
    "    local=False,\n",
    "    training=True,\n",
    "    validation=False,\n",
    "    loss=True,\n",
    "    size=(16, 8),\n",
    ")"
   ]
  },
  {
   "cell_type": "code",
   "execution_count": 17,
   "metadata": {
    "scrolled": false
   },
   "outputs": [
    {
     "data": {
      "image/png": "[encoded data removed]",
      "text/plain": [
       "<Figure size 1152x576 with 1 Axes>"
      ]
     },
     "metadata": {
      "needs_background": "light"
     },
     "output_type": "display_data"
    },
    {
     "data": {
      "image/png": "[encoded data removed]",
      "text/plain": [
       "<Figure size 1152x576 with 1 Axes>"
      ]
     },
     "metadata": {
      "needs_background": "light"
     },
     "output_type": "display_data"
    },
    {
     "data": {
      "application/javascript": [
       "\n",
       "            setTimeout(function() {\n",
       "                var nbb_cell_id = 17;\n",
       "                var nbb_unformatted_code = \"yml.basic_plot_tracker(\\n    train_dict[\\\"tracker\\\"],\\n    metrics=True,\\n    local=False,\\n    training=False,\\n    validation=True,\\n    loss=True,\\n    size=(16, 8),\\n)\";\n",
       "                var nbb_formatted_code = \"yml.basic_plot_tracker(\\n    train_dict[\\\"tracker\\\"],\\n    metrics=True,\\n    local=False,\\n    training=False,\\n    validation=True,\\n    loss=True,\\n    size=(16, 8),\\n)\";\n",
       "                var nbb_cells = Jupyter.notebook.get_cells();\n",
       "                for (var i = 0; i < nbb_cells.length; ++i) {\n",
       "                    if (nbb_cells[i].input_prompt_number == nbb_cell_id) {\n",
       "                        if (nbb_cells[i].get_text() == nbb_unformatted_code) {\n",
       "                             nbb_cells[i].set_text(nbb_formatted_code);\n",
       "                        }\n",
       "                        break;\n",
       "                    }\n",
       "                }\n",
       "            }, 500);\n",
       "            "
      ],
      "text/plain": [
       "<IPython.core.display.Javascript object>"
      ]
     },
     "metadata": {},
     "output_type": "display_data"
    }
   ],
   "source": [
    "yml.basic_plot_tracker(\n",
    "    train_dict[\"tracker\"],\n",
    "    metrics=True,\n",
    "    local=False,\n",
    "    training=False,\n",
    "    validation=True,\n",
    "    loss=True,\n",
    "    size=(16, 8),\n",
    ")"
   ]
  },
  {
   "cell_type": "code",
   "execution_count": 18,
   "metadata": {},
   "outputs": [
    {
     "data": {
      "application/javascript": [
       "\n",
       "            setTimeout(function() {\n",
       "                var nbb_cell_id = 18;\n",
       "                var nbb_unformatted_code = \"from sklearn.metrics import confusion_matrix\\nimport matplotlib.pyplot as plt\";\n",
       "                var nbb_formatted_code = \"from sklearn.metrics import confusion_matrix\\nimport matplotlib.pyplot as plt\";\n",
       "                var nbb_cells = Jupyter.notebook.get_cells();\n",
       "                for (var i = 0; i < nbb_cells.length; ++i) {\n",
       "                    if (nbb_cells[i].input_prompt_number == nbb_cell_id) {\n",
       "                        if (nbb_cells[i].get_text() == nbb_unformatted_code) {\n",
       "                             nbb_cells[i].set_text(nbb_formatted_code);\n",
       "                        }\n",
       "                        break;\n",
       "                    }\n",
       "                }\n",
       "            }, 500);\n",
       "            "
      ],
      "text/plain": [
       "<IPython.core.display.Javascript object>"
      ]
     },
     "metadata": {},
     "output_type": "display_data"
    }
   ],
   "source": [
    "from sklearn.metrics import confusion_matrix\n",
    "import matplotlib.pyplot as plt"
   ]
  },
  {
   "cell_type": "code",
   "execution_count": 19,
   "metadata": {
    "scrolled": true
   },
   "outputs": [
    {
     "data": {
      "image/png": "[encoded data removed]",
      "text/plain": [
       "<Figure size 432x288 with 1 Axes>"
      ]
     },
     "metadata": {
      "needs_background": "light"
     },
     "output_type": "display_data"
    },
    {
     "name": "stdout",
     "output_type": "stream",
     "text": [
      "target: 4, prediction: 4\n"
     ]
    },
    {
     "data": {
      "image/png": "[encoded data removed]",
      "text/plain": [
       "<Figure size 432x288 with 1 Axes>"
      ]
     },
     "metadata": {
      "needs_background": "light"
     },
     "output_type": "display_data"
    },
    {
     "name": "stdout",
     "output_type": "stream",
     "text": [
      "target: 1, prediction: 1\n"
     ]
    },
    {
     "data": {
      "image/png": "[encoded data removed]",
      "text/plain": [
       "<Figure size 432x288 with 1 Axes>"
      ]
     },
     "metadata": {
      "needs_background": "light"
     },
     "output_type": "display_data"
    },
    {
     "name": "stdout",
     "output_type": "stream",
     "text": [
      "target: 0, prediction: 0\n"
     ]
    },
    {
     "data": {
      "application/javascript": [
       "\n",
       "            setTimeout(function() {\n",
       "                var nbb_cell_id = 19;\n",
       "                var nbb_unformatted_code = \"for in_example in ds_dict[\\\"mnist\\\"][\\\"train\\\"].take(3):\\n    x = tf.squeeze(in_example[0])\\n    plt.imshow(x)\\n    plt.show()\\n    pred_softmax = model(tf.expand_dims(in_example[0], 0))\\n    pred = tf.argmax(pred_softmax, 1)\\n    print(f\\\"target: {in_example[1]}, prediction: {pred[0]}\\\")\";\n",
       "                var nbb_formatted_code = \"for in_example in ds_dict[\\\"mnist\\\"][\\\"train\\\"].take(3):\\n    x = tf.squeeze(in_example[0])\\n    plt.imshow(x)\\n    plt.show()\\n    pred_softmax = model(tf.expand_dims(in_example[0], 0))\\n    pred = tf.argmax(pred_softmax, 1)\\n    print(f\\\"target: {in_example[1]}, prediction: {pred[0]}\\\")\";\n",
       "                var nbb_cells = Jupyter.notebook.get_cells();\n",
       "                for (var i = 0; i < nbb_cells.length; ++i) {\n",
       "                    if (nbb_cells[i].input_prompt_number == nbb_cell_id) {\n",
       "                        if (nbb_cells[i].get_text() == nbb_unformatted_code) {\n",
       "                             nbb_cells[i].set_text(nbb_formatted_code);\n",
       "                        }\n",
       "                        break;\n",
       "                    }\n",
       "                }\n",
       "            }, 500);\n",
       "            "
      ],
      "text/plain": [
       "<IPython.core.display.Javascript object>"
      ]
     },
     "metadata": {},
     "output_type": "display_data"
    }
   ],
   "source": [
    "for in_example in ds_dict[\"mnist\"][\"train\"].take(3):\n",
    "    x = tf.squeeze(in_example[0])\n",
    "    plt.imshow(x)\n",
    "    plt.show()\n",
    "    pred_softmax = model(tf.expand_dims(in_example[0], 0))\n",
    "    pred = tf.argmax(pred_softmax, 1)\n",
    "    print(f\"target: {in_example[1]}, prediction: {pred[0]}\")"
   ]
  },
  {
   "cell_type": "code",
   "execution_count": 20,
   "metadata": {
    "scrolled": true
   },
   "outputs": [
    {
     "name": "stderr",
     "output_type": "stream",
     "text": [
      "eval_logger : INFO     START - evaluating\n",
      "eval_logger : INFO     current dataset: mnist\n",
      "eval_logger : INFO     in_hash: -8170597107930176485\n",
      "eval_logger : INFO     current config: {'type': 'supervised', 'options': {'prediction': 'y_pred', 'target': 'y_target'}, 'dataset': 'mnist'}\n",
      "eval_logger : INFO     done inference_on_ds on test\n"
     ]
    },
    {
     "data": {
      "application/javascript": [
       "\n",
       "            setTimeout(function() {\n",
       "                var nbb_cell_id = 20;\n",
       "                var nbb_unformatted_code = \"eval_dict = yml.eval_model(\\n    model,\\n    yml_dict,\\n    ds_dict,\\n    eval_split=\\\"test\\\",\\n    pred_dict={\\n        \\\"pred\\\": {\\\"fn\\\": tf.argmax, \\\"options\\\": {\\\"axis\\\": 1}},\\n        \\\"write\\\": None,\\n    },  # hacky first cut\\n)\";\n",
       "                var nbb_formatted_code = \"eval_dict = yml.eval_model(\\n    model,\\n    yml_dict,\\n    ds_dict,\\n    eval_split=\\\"test\\\",\\n    pred_dict={\\n        \\\"pred\\\": {\\\"fn\\\": tf.argmax, \\\"options\\\": {\\\"axis\\\": 1}},\\n        \\\"write\\\": None,\\n    },  # hacky first cut\\n)\";\n",
       "                var nbb_cells = Jupyter.notebook.get_cells();\n",
       "                for (var i = 0; i < nbb_cells.length; ++i) {\n",
       "                    if (nbb_cells[i].input_prompt_number == nbb_cell_id) {\n",
       "                        if (nbb_cells[i].get_text() == nbb_unformatted_code) {\n",
       "                             nbb_cells[i].set_text(nbb_formatted_code);\n",
       "                        }\n",
       "                        break;\n",
       "                    }\n",
       "                }\n",
       "            }, 500);\n",
       "            "
      ],
      "text/plain": [
       "<IPython.core.display.Javascript object>"
      ]
     },
     "metadata": {},
     "output_type": "display_data"
    }
   ],
   "source": [
    "eval_dict = yml.eval_model(\n",
    "    model,\n",
    "    yml_dict,\n",
    "    ds_dict,\n",
    "    eval_split=\"test\",\n",
    "    pred_dict={\n",
    "        \"pred\": {\"fn\": tf.argmax, \"options\": {\"axis\": 1}},\n",
    "        \"write\": None,\n",
    "    },  # hacky first cut\n",
    ")"
   ]
  },
  {
   "cell_type": "code",
   "execution_count": 21,
   "metadata": {},
   "outputs": [
    {
     "name": "stdout",
     "output_type": "stream",
     "text": [
      "{'sparse_categorical_crossentropy': {'loss_main_obj_sparse_categorical_crossentropy_mean_test': 0.4436243}}\n"
     ]
    },
    {
     "data": {
      "application/javascript": [
       "\n",
       "            setTimeout(function() {\n",
       "                var nbb_cell_id = 21;\n",
       "                var nbb_unformatted_code = \"for in_hash in eval_dict[\\\"mnist\\\"].keys():\\n    print(eval_dict[\\\"mnist\\\"][in_hash][\\\"loss\\\"])\";\n",
       "                var nbb_formatted_code = \"for in_hash in eval_dict[\\\"mnist\\\"].keys():\\n    print(eval_dict[\\\"mnist\\\"][in_hash][\\\"loss\\\"])\";\n",
       "                var nbb_cells = Jupyter.notebook.get_cells();\n",
       "                for (var i = 0; i < nbb_cells.length; ++i) {\n",
       "                    if (nbb_cells[i].input_prompt_number == nbb_cell_id) {\n",
       "                        if (nbb_cells[i].get_text() == nbb_unformatted_code) {\n",
       "                             nbb_cells[i].set_text(nbb_formatted_code);\n",
       "                        }\n",
       "                        break;\n",
       "                    }\n",
       "                }\n",
       "            }, 500);\n",
       "            "
      ],
      "text/plain": [
       "<IPython.core.display.Javascript object>"
      ]
     },
     "metadata": {},
     "output_type": "display_data"
    }
   ],
   "source": [
    "for in_hash in eval_dict[\"mnist\"].keys():\n",
    "    print(eval_dict[\"mnist\"][in_hash][\"loss\"])"
   ]
  },
  {
   "cell_type": "code",
   "execution_count": 22,
   "metadata": {},
   "outputs": [
    {
     "name": "stdout",
     "output_type": "stream",
     "text": [
      "{'sparse_categorical_accuracy': 0.8780242}\n"
     ]
    },
    {
     "data": {
      "application/javascript": [
       "\n",
       "            setTimeout(function() {\n",
       "                var nbb_cell_id = 22;\n",
       "                var nbb_unformatted_code = \"for in_hash in eval_dict[\\\"mnist\\\"].keys():\\n    print(eval_dict[\\\"mnist\\\"][in_hash][\\\"metrics\\\"])\";\n",
       "                var nbb_formatted_code = \"for in_hash in eval_dict[\\\"mnist\\\"].keys():\\n    print(eval_dict[\\\"mnist\\\"][in_hash][\\\"metrics\\\"])\";\n",
       "                var nbb_cells = Jupyter.notebook.get_cells();\n",
       "                for (var i = 0; i < nbb_cells.length; ++i) {\n",
       "                    if (nbb_cells[i].input_prompt_number == nbb_cell_id) {\n",
       "                        if (nbb_cells[i].get_text() == nbb_unformatted_code) {\n",
       "                             nbb_cells[i].set_text(nbb_formatted_code);\n",
       "                        }\n",
       "                        break;\n",
       "                    }\n",
       "                }\n",
       "            }, 500);\n",
       "            "
      ],
      "text/plain": [
       "<IPython.core.display.Javascript object>"
      ]
     },
     "metadata": {},
     "output_type": "display_data"
    }
   ],
   "source": [
    "for in_hash in eval_dict[\"mnist\"].keys():\n",
    "    print(eval_dict[\"mnist\"][in_hash][\"metrics\"])"
   ]
  },
  {
   "cell_type": "code",
   "execution_count": 23,
   "metadata": {},
   "outputs": [
    {
     "data": {
      "image/png": "[encoded data removed]",
      "text/plain": [
       "<Figure size 288x288 with 1 Axes>"
      ]
     },
     "metadata": {
      "needs_background": "light"
     },
     "output_type": "display_data"
    },
    {
     "data": {
      "application/javascript": [
       "\n",
       "            setTimeout(function() {\n",
       "                var nbb_cell_id = 23;\n",
       "                var nbb_unformatted_code = \"in_hash = list(eval_dict[\\\"mnist\\\"].keys())[0]\\ncm = confusion_matrix(\\n    eval_dict[\\\"mnist\\\"][in_hash][\\\"out\\\"][\\\"pred\\\"],\\n    eval_dict[\\\"mnist\\\"][in_hash][\\\"out\\\"][\\\"target\\\"],\\n)\\nplt.matshow(cm, vmin=0, vmax=40)\\nplt.show()\";\n",
       "                var nbb_formatted_code = \"in_hash = list(eval_dict[\\\"mnist\\\"].keys())[0]\\ncm = confusion_matrix(\\n    eval_dict[\\\"mnist\\\"][in_hash][\\\"out\\\"][\\\"pred\\\"],\\n    eval_dict[\\\"mnist\\\"][in_hash][\\\"out\\\"][\\\"target\\\"],\\n)\\nplt.matshow(cm, vmin=0, vmax=40)\\nplt.show()\";\n",
       "                var nbb_cells = Jupyter.notebook.get_cells();\n",
       "                for (var i = 0; i < nbb_cells.length; ++i) {\n",
       "                    if (nbb_cells[i].input_prompt_number == nbb_cell_id) {\n",
       "                        if (nbb_cells[i].get_text() == nbb_unformatted_code) {\n",
       "                             nbb_cells[i].set_text(nbb_formatted_code);\n",
       "                        }\n",
       "                        break;\n",
       "                    }\n",
       "                }\n",
       "            }, 500);\n",
       "            "
      ],
      "text/plain": [
       "<IPython.core.display.Javascript object>"
      ]
     },
     "metadata": {},
     "output_type": "display_data"
    }
   ],
   "source": [
    "in_hash = list(eval_dict[\"mnist\"].keys())[0]\n",
    "cm = confusion_matrix(\n",
    "    eval_dict[\"mnist\"][in_hash][\"out\"][\"pred\"],\n",
    "    eval_dict[\"mnist\"][in_hash][\"out\"][\"target\"],\n",
    ")\n",
    "plt.matshow(cm, vmin=0, vmax=40)\n",
    "plt.show()"
   ]
  },
  {
   "cell_type": "markdown",
   "metadata": {},
   "source": [
    "## experimental"
   ]
  },
  {
   "cell_type": "code",
   "execution_count": 24,
   "metadata": {},
   "outputs": [
    {
     "data": {
      "application/javascript": [
       "\n",
       "            setTimeout(function() {\n",
       "                var nbb_cell_id = 24;\n",
       "                var nbb_unformatted_code = \"import tensorflow_model_optimization as tfmot\";\n",
       "                var nbb_formatted_code = \"import tensorflow_model_optimization as tfmot\";\n",
       "                var nbb_cells = Jupyter.notebook.get_cells();\n",
       "                for (var i = 0; i < nbb_cells.length; ++i) {\n",
       "                    if (nbb_cells[i].input_prompt_number == nbb_cell_id) {\n",
       "                        if (nbb_cells[i].get_text() == nbb_unformatted_code) {\n",
       "                             nbb_cells[i].set_text(nbb_formatted_code);\n",
       "                        }\n",
       "                        break;\n",
       "                    }\n",
       "                }\n",
       "            }, 500);\n",
       "            "
      ],
      "text/plain": [
       "<IPython.core.display.Javascript object>"
      ]
     },
     "metadata": {},
     "output_type": "display_data"
    }
   ],
   "source": [
    "import tensorflow_model_optimization as tfmot"
   ]
  },
  {
   "cell_type": "code",
   "execution_count": 25,
   "metadata": {},
   "outputs": [
    {
     "data": {
      "application/javascript": [
       "\n",
       "            setTimeout(function() {\n",
       "                var nbb_cell_id = 25;\n",
       "                var nbb_unformatted_code = \"cluster_weights = tfmot.clustering.keras.cluster_weights\\nCentroidInitialization = tfmot.clustering.keras.CentroidInitialization\";\n",
       "                var nbb_formatted_code = \"cluster_weights = tfmot.clustering.keras.cluster_weights\\nCentroidInitialization = tfmot.clustering.keras.CentroidInitialization\";\n",
       "                var nbb_cells = Jupyter.notebook.get_cells();\n",
       "                for (var i = 0; i < nbb_cells.length; ++i) {\n",
       "                    if (nbb_cells[i].input_prompt_number == nbb_cell_id) {\n",
       "                        if (nbb_cells[i].get_text() == nbb_unformatted_code) {\n",
       "                             nbb_cells[i].set_text(nbb_formatted_code);\n",
       "                        }\n",
       "                        break;\n",
       "                    }\n",
       "                }\n",
       "            }, 500);\n",
       "            "
      ],
      "text/plain": [
       "<IPython.core.display.Javascript object>"
      ]
     },
     "metadata": {},
     "output_type": "display_data"
    }
   ],
   "source": [
    "cluster_weights = tfmot.clustering.keras.cluster_weights\n",
    "CentroidInitialization = tfmot.clustering.keras.CentroidInitialization"
   ]
  },
  {
   "cell_type": "code",
   "execution_count": 26,
   "metadata": {},
   "outputs": [
    {
     "data": {
      "application/javascript": [
       "\n",
       "            setTimeout(function() {\n",
       "                var nbb_cell_id = 26;\n",
       "                var nbb_unformatted_code = \"clustering_params = {\\n    \\\"number_of_clusters\\\": 16,\\n    \\\"cluster_centroids_init\\\": CentroidInitialization.LINEAR,\\n}\";\n",
       "                var nbb_formatted_code = \"clustering_params = {\\n    \\\"number_of_clusters\\\": 16,\\n    \\\"cluster_centroids_init\\\": CentroidInitialization.LINEAR,\\n}\";\n",
       "                var nbb_cells = Jupyter.notebook.get_cells();\n",
       "                for (var i = 0; i < nbb_cells.length; ++i) {\n",
       "                    if (nbb_cells[i].input_prompt_number == nbb_cell_id) {\n",
       "                        if (nbb_cells[i].get_text() == nbb_unformatted_code) {\n",
       "                             nbb_cells[i].set_text(nbb_formatted_code);\n",
       "                        }\n",
       "                        break;\n",
       "                    }\n",
       "                }\n",
       "            }, 500);\n",
       "            "
      ],
      "text/plain": [
       "<IPython.core.display.Javascript object>"
      ]
     },
     "metadata": {},
     "output_type": "display_data"
    }
   ],
   "source": [
    "clustering_params = {\n",
    "    \"number_of_clusters\": 16,\n",
    "    \"cluster_centroids_init\": CentroidInitialization.LINEAR,\n",
    "}"
   ]
  },
  {
   "cell_type": "code",
   "execution_count": 27,
   "metadata": {},
   "outputs": [
    {
     "data": {
      "application/javascript": [
       "\n",
       "            setTimeout(function() {\n",
       "                var nbb_cell_id = 27;\n",
       "                var nbb_unformatted_code = \"clustered_model = cluster_weights(model, **clustering_params)\";\n",
       "                var nbb_formatted_code = \"clustered_model = cluster_weights(model, **clustering_params)\";\n",
       "                var nbb_cells = Jupyter.notebook.get_cells();\n",
       "                for (var i = 0; i < nbb_cells.length; ++i) {\n",
       "                    if (nbb_cells[i].input_prompt_number == nbb_cell_id) {\n",
       "                        if (nbb_cells[i].get_text() == nbb_unformatted_code) {\n",
       "                             nbb_cells[i].set_text(nbb_formatted_code);\n",
       "                        }\n",
       "                        break;\n",
       "                    }\n",
       "                }\n",
       "            }, 500);\n",
       "            "
      ],
      "text/plain": [
       "<IPython.core.display.Javascript object>"
      ]
     },
     "metadata": {},
     "output_type": "display_data"
    }
   ],
   "source": [
    "clustered_model = cluster_weights(model, **clustering_params)"
   ]
  },
  {
   "cell_type": "code",
   "execution_count": 28,
   "metadata": {},
   "outputs": [
    {
     "name": "stderr",
     "output_type": "stream",
     "text": [
      "train_logger: INFO     START - training\n",
      "train_logger: INFO     optimizer: main_opt\n",
      "train_logger: INFO     objective: main_obj\n",
      "train_logger: INFO     epoch main_obj - mnist train: 1\n",
      "train_logger: INFO     done inference on val - 992\n",
      "train_logger: INFO     optimizer: main_opt\n",
      "train_logger: INFO     objective: main_obj\n",
      "train_logger: INFO     epoch main_obj - mnist train: 2\n",
      "train_logger: INFO     done inference on val - 1984\n",
      "train_logger: INFO     optimizer: main_opt\n",
      "train_logger: INFO     objective: main_obj\n",
      "train_logger: INFO     epoch main_obj - mnist train: 3\n",
      "train_logger: INFO     done inference on val - 2976\n",
      "train_logger: INFO     optimizer: main_opt\n",
      "train_logger: INFO     objective: main_obj\n",
      "train_logger: INFO     epoch main_obj - mnist train: 4\n",
      "train_logger: INFO     done inference on val - 3968\n",
      "train_logger: INFO     optimizer: main_opt\n",
      "train_logger: INFO     objective: main_obj\n",
      "train_logger: INFO     epoch main_obj - mnist train: 5\n",
      "train_logger: INFO     done inference on val - 4960\n",
      "train_logger: INFO     optimizer: main_opt\n",
      "train_logger: INFO     objective: main_obj\n",
      "train_logger: INFO     epoch main_obj - mnist train: 6\n",
      "train_logger: INFO     done inference on val - 5952\n",
      "train_logger: INFO     optimizer: main_opt\n",
      "train_logger: INFO     objective: main_obj\n",
      "train_logger: INFO     epoch main_obj - mnist train: 7\n",
      "train_logger: INFO     done inference on val - 6944\n",
      "train_logger: INFO     optimizer: main_opt\n",
      "train_logger: INFO     objective: main_obj\n",
      "train_logger: INFO     epoch main_obj - mnist train: 8\n",
      "train_logger: INFO     done inference on val - 7936\n",
      "train_logger: INFO     optimizer: main_opt\n",
      "train_logger: INFO     objective: main_obj\n",
      "train_logger: INFO     epoch main_obj - mnist train: 9\n",
      "train_logger: INFO     done inference on val - 8928\n",
      "train_logger: INFO     optimizer: main_opt\n",
      "train_logger: INFO     objective: main_obj\n",
      "train_logger: INFO     main_opt removed from list of opt. remaining: []\n",
      "train_logger: INFO     is_training: False\n",
      "train_logger: INFO     epoch main_obj - mnist train: 10\n",
      "train_logger: INFO     done inference on val - 9920\n"
     ]
    },
    {
     "name": "stdout",
     "output_type": "stream",
     "text": [
      "CPU times: user 16.2 s, sys: 1.18 s, total: 17.4 s\n",
      "Wall time: 12.4 s\n"
     ]
    },
    {
     "data": {
      "application/javascript": [
       "\n",
       "            setTimeout(function() {\n",
       "                var nbb_cell_id = 28;\n",
       "                var nbb_unformatted_code = \"%%time\\n# TODO: only finetune\\ntrain_dict = yml.train_model(clustered_model, yml_dict, ds_dict)\";\n",
       "                var nbb_formatted_code = \"%%time\\n# TODO: only finetune\\ntrain_dict = yml.train_model(clustered_model, yml_dict, ds_dict)\";\n",
       "                var nbb_cells = Jupyter.notebook.get_cells();\n",
       "                for (var i = 0; i < nbb_cells.length; ++i) {\n",
       "                    if (nbb_cells[i].input_prompt_number == nbb_cell_id) {\n",
       "                        if (nbb_cells[i].get_text() == nbb_unformatted_code) {\n",
       "                             nbb_cells[i].set_text(nbb_formatted_code);\n",
       "                        }\n",
       "                        break;\n",
       "                    }\n",
       "                }\n",
       "            }, 500);\n",
       "            "
      ],
      "text/plain": [
       "<IPython.core.display.Javascript object>"
      ]
     },
     "metadata": {},
     "output_type": "display_data"
    }
   ],
   "source": [
    "%%time\n",
    "# TODO: only finetune\n",
    "train_dict = yml.train_model(clustered_model, yml_dict, ds_dict)"
   ]
  },
  {
   "cell_type": "code",
   "execution_count": 29,
   "metadata": {},
   "outputs": [
    {
     "data": {
      "image/png": "[encoded data removed]",
      "text/plain": [
       "<Figure size 1152x576 with 1 Axes>"
      ]
     },
     "metadata": {
      "needs_background": "light"
     },
     "output_type": "display_data"
    },
    {
     "data": {
      "image/png": "[encoded data removed]",
      "text/plain": [
       "<Figure size 1152x576 with 1 Axes>"
      ]
     },
     "metadata": {
      "needs_background": "light"
     },
     "output_type": "display_data"
    },
    {
     "data": {
      "application/javascript": [
       "\n",
       "            setTimeout(function() {\n",
       "                var nbb_cell_id = 29;\n",
       "                var nbb_unformatted_code = \"yml.basic_plot_tracker(\\n    train_dict[\\\"tracker\\\"],\\n    metrics=True,\\n    local=False,\\n    training=True,\\n    validation=False,\\n    loss=True,\\n    size=(16, 8),\\n)\";\n",
       "                var nbb_formatted_code = \"yml.basic_plot_tracker(\\n    train_dict[\\\"tracker\\\"],\\n    metrics=True,\\n    local=False,\\n    training=True,\\n    validation=False,\\n    loss=True,\\n    size=(16, 8),\\n)\";\n",
       "                var nbb_cells = Jupyter.notebook.get_cells();\n",
       "                for (var i = 0; i < nbb_cells.length; ++i) {\n",
       "                    if (nbb_cells[i].input_prompt_number == nbb_cell_id) {\n",
       "                        if (nbb_cells[i].get_text() == nbb_unformatted_code) {\n",
       "                             nbb_cells[i].set_text(nbb_formatted_code);\n",
       "                        }\n",
       "                        break;\n",
       "                    }\n",
       "                }\n",
       "            }, 500);\n",
       "            "
      ],
      "text/plain": [
       "<IPython.core.display.Javascript object>"
      ]
     },
     "metadata": {},
     "output_type": "display_data"
    }
   ],
   "source": [
    "yml.basic_plot_tracker(\n",
    "    train_dict[\"tracker\"],\n",
    "    metrics=True,\n",
    "    local=False,\n",
    "    training=True,\n",
    "    validation=False,\n",
    "    loss=True,\n",
    "    size=(16, 8),\n",
    ")"
   ]
  },
  {
   "cell_type": "markdown",
   "metadata": {},
   "source": [
    "## Evaluate the Model"
   ]
  },
  {
   "cell_type": "code",
   "execution_count": 30,
   "metadata": {},
   "outputs": [
    {
     "data": {
      "application/javascript": [
       "\n",
       "            setTimeout(function() {\n",
       "                var nbb_cell_id = 30;\n",
       "                var nbb_unformatted_code = \"# eval_dict = yml.eval_model(\\n#     model,\\n#     yml_dict,\\n#     dataset=ds_dict[\\\"test\\\"]\\n# )\\n# print(eval_dict)\";\n",
       "                var nbb_formatted_code = \"# eval_dict = yml.eval_model(\\n#     model,\\n#     yml_dict,\\n#     dataset=ds_dict[\\\"test\\\"]\\n# )\\n# print(eval_dict)\";\n",
       "                var nbb_cells = Jupyter.notebook.get_cells();\n",
       "                for (var i = 0; i < nbb_cells.length; ++i) {\n",
       "                    if (nbb_cells[i].input_prompt_number == nbb_cell_id) {\n",
       "                        if (nbb_cells[i].get_text() == nbb_unformatted_code) {\n",
       "                             nbb_cells[i].set_text(nbb_formatted_code);\n",
       "                        }\n",
       "                        break;\n",
       "                    }\n",
       "                }\n",
       "            }, 500);\n",
       "            "
      ],
      "text/plain": [
       "<IPython.core.display.Javascript object>"
      ]
     },
     "metadata": {},
     "output_type": "display_data"
    }
   ],
   "source": [
    "# eval_dict = yml.eval_model(\n",
    "#     model,\n",
    "#     yml_dict,\n",
    "#     dataset=ds_dict[\"test\"]\n",
    "# )\n",
    "# print(eval_dict)"
   ]
  },
  {
   "cell_type": "markdown",
   "metadata": {},
   "source": [
    "## Inspect model in Tensorflow\n",
    "\n",
    "In the command line you can navigate to the `albalone` directory and run: (provided tensorboard is installed in your environment)\n",
    "\n",
    "```bash\n",
    "tensorboard --logdir model_a/\n",
    "```"
   ]
  }
 ],
 "metadata": {
  "kernelspec": {
   "display_name": "tf2",
   "language": "python",
   "name": "tf2"
  },
  "language_info": {
   "codemirror_mode": {
    "name": "ipython",
    "version": 3
   },
   "file_extension": ".py",
   "mimetype": "text/x-python",
   "name": "python",
   "nbconvert_exporter": "python",
   "pygments_lexer": "ipython3",
   "version": "3.6.7"
  }
 },
 "nbformat": 4,
 "nbformat_minor": 2
}
